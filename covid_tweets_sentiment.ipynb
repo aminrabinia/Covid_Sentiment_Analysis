{
  "nbformat": 4,
  "nbformat_minor": 0,
  "metadata": {
    "colab": {
      "name": "covid_tweets_sentiment.ipynb",
      "provenance": [],
      "collapsed_sections": [],
      "toc_visible": true,
      "include_colab_link": true
    },
    "kernelspec": {
      "name": "python3",
      "display_name": "Python 3"
    }
  },
  "cells": [
    {
      "cell_type": "markdown",
      "metadata": {
        "id": "view-in-github",
        "colab_type": "text"
      },
      "source": [
        "<a href=\"https://colab.research.google.com/github/aminrabinia/Covid_Sentiment_Analysis/blob/main/covid_tweets_sentiment.ipynb\" target=\"_parent\"><img src=\"https://colab.research.google.com/assets/colab-badge.svg\" alt=\"Open In Colab\"/></a>"
      ]
    },
    {
      "cell_type": "code",
      "metadata": {
        "id": "Fw87E51gQA0v"
      },
      "source": [
        "import pandas as pd\n",
        "import tweepy\n",
        "import re\n",
        "from textblob import TextBlob\n",
        "from sklearn import svm\n",
        "from sklearn.tree import DecisionTreeClassifier\n",
        "from sklearn.ensemble import RandomForestClassifier\n",
        "from sklearn.neighbors import KNeighborsClassifier\n",
        "from sklearn.metrics import classification_report\n",
        "from sklearn.model_selection import train_test_split\n",
        "from sklearn.feature_extraction.text import TfidfVectorizer\n",
        "import matplotlib.pyplot as plt\n",
        "from sklearn.metrics import plot_confusion_matrix\n",
        "import seaborn as sns\n"
      ],
      "execution_count": null,
      "outputs": []
    },
    {
      "cell_type": "markdown",
      "metadata": {
        "id": "rg1dR2glLFxq"
      },
      "source": [
        "# Data Collection\n",
        "(Needs secret key and token)"
      ]
    },
    {
      "cell_type": "code",
      "metadata": {
        "id": "wvivCvm1LQ-M"
      },
      "source": [
        "import os\n",
        "import tweepy as tw\n",
        "import pandas as pd\n",
        "from google.colab import files\n",
        "\n",
        "consumer_key=''\n",
        "consumer_secret=''                      \n",
        "access_token_key=''\n",
        "access_token_secret= ''\n",
        "\n",
        "auth = tw.OAuthHandler(consumer_key, consumer_secret)\n",
        "auth.set_access_token(access_token_key, access_token_secret)\n",
        "api = tw.API(auth, wait_on_rate_limit=True)"
      ],
      "execution_count": null,
      "outputs": []
    },
    {
      "cell_type": "code",
      "metadata": {
        "id": "QjwJwLUHLY75"
      },
      "source": [
        "search_words='#covid'+ \" -filter:retweets\"\n",
        "date_since='2020-06-5'\n",
        "\n",
        "tweets = tw.Cursor(api.search, \n",
        "              tweet_mode='extended',\n",
        "              q=search_words,\n",
        "              lang=\"en\",\n",
        "              since=date_since).items(1000)"
      ],
      "execution_count": null,
      "outputs": []
    },
    {
      "cell_type": "code",
      "metadata": {
        "id": "mQxebwsILir0"
      },
      "source": [
        "mylist=[]\n",
        "\n",
        "for tweet in tweets:\n",
        "  mylist.append([tweet.created_at, tweet.user.location, tweet.user.screen_name,tweet.user.followers_count, tweet.favorite_count, tweet.retweet_count, tweet.full_text ])\n",
        "print(mylist[-1])"
      ],
      "execution_count": null,
      "outputs": []
    },
    {
      "cell_type": "code",
      "metadata": {
        "id": "XONZ6ncQLmTb"
      },
      "source": [
        "newdf=pd.DataFrame(mylist,columns=['data time','location','user','followers','text','likes','retweets'])\n",
        "writer = pd.ExcelWriter('newTweets.xlsx')\n",
        "newdf.to_excel(writer, 'newsheet' )\n",
        "writer.save()\n",
        "!dir"
      ],
      "execution_count": null,
      "outputs": []
    },
    {
      "cell_type": "markdown",
      "metadata": {
        "id": "30nyLal4gRCp"
      },
      "source": [
        "# Preprocessing the Data \n"
      ]
    },
    {
      "cell_type": "code",
      "metadata": {
        "id": "N4D16P1sQMsn"
      },
      "source": [
        "covid_raw_data = pd.read_excel('/content/CovidTweets.xlsx')\n",
        "df=pd.DataFrame(covid_raw_data)\n",
        "df.head(5)"
      ],
      "execution_count": null,
      "outputs": []
    },
    {
      "cell_type": "code",
      "metadata": {
        "id": "ogxYlCVZRktk"
      },
      "source": [
        "def clean_tweet(text):\n",
        "  text=text.lower()\n",
        "  text = re.sub('@+', '', text)\n",
        "  text = re.sub('\\d+', '', text)\n",
        "  text = re.sub('#', '', text) \n",
        "  text = re.sub('\\n', '', text)\n",
        "  text = re.sub('RT[\\s]+', '', text)\n",
        "  text = re.sub('https?:\\/\\/\\S+', '', text) \n",
        "  return text\n",
        "\n",
        "def sentiment_polarity(text):\n",
        "  return TextBlob(text).sentiment.polarity\n",
        "\n",
        "df['text']=df['text'].apply(clean_tweet)\n",
        "\n",
        "df['sentiment']=df['text'].apply(sentiment_polarity)"
      ],
      "execution_count": null,
      "outputs": []
    },
    {
      "cell_type": "code",
      "metadata": {
        "id": "OhK3lNcuKvX0"
      },
      "source": [
        "# few samples of automated labeling with high polarity\n",
        "for i in range (len(df['text'])):\n",
        "  if df['sentiment'][i]>0.7 or df['sentiment'][i]< -0.7:\n",
        "    print(\"%.1f\" %df['sentiment'][i], df['text'][i])"
      ],
      "execution_count": null,
      "outputs": []
    },
    {
      "cell_type": "code",
      "metadata": {
        "colab": {
          "base_uri": "https://localhost:8080/",
          "height": 295
        },
        "id": "LMaC3AFKjaaw",
        "outputId": "869504cd-bca0-420f-8404-b5ebdeaf8929"
      },
      "source": [
        "def data_categorical(value):\n",
        "  if value>0: return 1\n",
        "  elif value<0: return -1\n",
        "  else: return 0\n",
        "\n",
        "df_copy=df\n",
        "df_copy['sentiment']= df_copy['sentiment'].apply(data_categorical)[:200]\n",
        "\n",
        "sns.countplot(\n",
        "  x='sentiment',\n",
        "  data=df_copy,\n",
        "  order=df.sentiment.value_counts().index\n",
        ")\n",
        "\n",
        "plt.xlabel(\"Sentiment\")\n",
        "plt.title(\"Data Imbalance in the Unsupervised Set\");"
      ],
      "execution_count": null,
      "outputs": [
        {
          "output_type": "display_data",
          "data": {
            "image/png": "[encoded data removed]",
            "text/plain": [
              "<Figure size 432x288 with 1 Axes>"
            ]
          },
          "metadata": {
            "tags": [],
            "needs_background": "light"
          }
        }
      ]
    },
    {
      "cell_type": "code",
      "metadata": {
        "id": "FK6el4MULw6j"
      },
      "source": [
        "writer = pd.ExcelWriter('LabeledTweets.xlsx')\n",
        "df.to_excel(writer, 'newsheet' )\n",
        "writer.save()"
      ],
      "execution_count": null,
      "outputs": []
    },
    {
      "cell_type": "markdown",
      "metadata": {
        "id": "HtA3GDvyd7Pf"
      },
      "source": [
        "# Data Split and Vectorize"
      ]
    },
    {
      "cell_type": "code",
      "metadata": {
        "id": "-nsoP_nZeAxV"
      },
      "source": [
        "labeled_data = pd.read_excel('LabeledTweets.xlsx') # labels manually corrected\n",
        "df = pd.DataFrame(labeled_data)"
      ],
      "execution_count": null,
      "outputs": []
    },
    {
      "cell_type": "code",
      "metadata": {
        "colab": {
          "base_uri": "https://localhost:8080/",
          "height": 295
        },
        "id": "QIoJQnagllqw",
        "outputId": "ec76d216-3c04-4d7d-ff21-60b84fde0ae1"
      },
      "source": [
        "def data_categorical(value):\n",
        "  if value>0: return 1\n",
        "  elif value<0: return -1\n",
        "  else: return 0\n",
        "\n",
        "DATA_CUT = 200 \n",
        "df_copy=df\n",
        "df_copy['sentiment']= df_copy['sentiment'].apply(data_categorical)[:DATA_CUT]\n",
        "\n",
        "sns.countplot(\n",
        "  x='sentiment',\n",
        "  data=df_copy,\n",
        "  order=df.sentiment.value_counts().index\n",
        ")\n",
        "\n",
        "plt.xlabel(\"Sentiment\")\n",
        "plt.title(\"Data Imbalance in the Supervised Set\");"
      ],
      "execution_count": null,
      "outputs": [
        {
          "output_type": "display_data",
          "data": {
            "image/png": "[encoded data removed]",
            "text/plain": [
              "<Figure size 432x288 with 1 Axes>"
            ]
          },
          "metadata": {
            "tags": [],
            "needs_background": "light"
          }
        }
      ]
    },
    {
      "cell_type": "code",
      "metadata": {
        "colab": {
          "base_uri": "https://localhost:8080/"
        },
        "id": "6Ihfw3fGhYqT",
        "outputId": "cb5b9130-1a24-4a4b-de8f-072685c8a756"
      },
      "source": [
        "X = df['text'][:DATA_CUT]\n",
        "y = df['sentiment'][:DATA_CUT]\n",
        "\n",
        "label = []\n",
        "\n",
        "for x in y:\n",
        "  if x>0: label.append(1)\n",
        "  else: label.append(0)\n",
        "\n",
        "X_train, X_test, y_train, y_test = train_test_split(X, label, \n",
        "                                      test_size=0.30, random_state=42)\n",
        "\n",
        "print('Train size: %d' %len(y_train))\n",
        "print('Test size:  %d' %len(y_test))"
      ],
      "execution_count": null,
      "outputs": [
        {
          "output_type": "stream",
          "text": [
            "Train size: 140\n",
            "Test size:  60\n"
          ],
          "name": "stdout"
        }
      ]
    },
    {
      "cell_type": "code",
      "metadata": {
        "id": "me3JfI2weGQY"
      },
      "source": [
        "vectorizer = TfidfVectorizer(min_df = 1,\n",
        "                             max_df = 0.8,\n",
        "                             sublinear_tf = True,\n",
        "                             use_idf = True)\n",
        "X_train_vectors = vectorizer.fit_transform(X_train)\n",
        "X_test_vectors = vectorizer.transform(X_test)"
      ],
      "execution_count": null,
      "outputs": []
    },
    {
      "cell_type": "markdown",
      "metadata": {
        "id": "1ODHa6bUqRuv"
      },
      "source": [
        "# Classifiers"
      ]
    },
    {
      "cell_type": "markdown",
      "metadata": {
        "id": "3Z5F3FN0N8Lv"
      },
      "source": [
        "SVM"
      ]
    },
    {
      "cell_type": "code",
      "metadata": {
        "colab": {
          "base_uri": "https://localhost:8080/",
          "height": 329
        },
        "id": "wA5G1Hnfg7Or",
        "outputId": "175271bb-9b6e-43d8-9492-53b6473e39b9"
      },
      "source": [
        "classifier_linear = svm.SVC(kernel='linear')\n",
        "classifier_linear.fit(X_train_vectors, y_train)\n",
        "\n",
        "prediction_linear = classifier_linear.predict(X_test_vectors)\n",
        "\n",
        "report = classification_report(y_test, prediction_linear, output_dict=True)\n",
        "print('positive: ', report['1'])\n",
        "print('negative: ', report['0'])\n",
        "\n",
        "class_names = ['Negative','Positive']\n",
        "plot_confusion_matrix(classifier_linear, X_test_vectors, y_test,display_labels=class_names,\n",
        "                      cmap=plt.cm.Blues,\n",
        "                      normalize=None)\n",
        "plt.title('Confusion Matrix for SVM')\n",
        "plt.xlabel('Predicted labels')\n",
        "plt.ylabel('True labels')\n",
        "#plt.show()\n",
        "plt.savefig('cm for SVM')\n"
      ],
      "execution_count": null,
      "outputs": [
        {
          "output_type": "stream",
          "text": [
            "positive:  {'precision': 0.9333333333333333, 'recall': 0.4827586206896552, 'f1-score': 0.6363636363636364, 'support': 29}\n",
            "negative:  {'precision': 0.6666666666666666, 'recall': 0.967741935483871, 'f1-score': 0.7894736842105263, 'support': 31}\n"
          ],
          "name": "stdout"
        },
        {
          "output_type": "display_data",
          "data": {
            "image/png": "[encoded data removed]",
            "text/plain": [
              "<Figure size 432x288 with 2 Axes>"
            ]
          },
          "metadata": {
            "tags": [],
            "needs_background": "light"
          }
        }
      ]
    },
    {
      "cell_type": "markdown",
      "metadata": {
        "id": "T0pUHl0HO86x"
      },
      "source": [
        "KNN"
      ]
    },
    {
      "cell_type": "code",
      "metadata": {
        "id": "F7ctth1LPCaQ",
        "colab": {
          "base_uri": "https://localhost:8080/",
          "height": 482
        },
        "outputId": "65e83bb4-47e7-4f4a-ba60-8eb96bca1877"
      },
      "source": [
        "'''KNN'''\n",
        "knnModel = KNeighborsClassifier(n_neighbors=9).fit(X_train_vectors, y_train)\n",
        "prediction_knn = knnModel.predict(X_test_vectors)\n",
        "report_knn = classification_report(y_test, prediction_knn)\n",
        "plot_confusion_matrix(knnModel, X_test_vectors, y_test,display_labels=class_names,\n",
        "                      cmap=plt.cm.Blues,\n",
        "                      normalize=None)\n",
        "plt.title('Confusion Matrix for KNN')\n",
        "plt.xlabel('Predicted labels')\n",
        "plt.ylabel('True labels')\n",
        "#plt.show()\n",
        "plt.savefig('cm for KNN')\n",
        "print('\\nKNN results')\n",
        "print(report_knn)\n",
        "#print('\\npositive: ', report_knn['0'])\n",
        "#print('negative: ', report_knn['1'])"
      ],
      "execution_count": null,
      "outputs": [
        {
          "output_type": "stream",
          "text": [
            "\n",
            "KNN results\n",
            "              precision    recall  f1-score   support\n",
            "\n",
            "           0       0.58      0.84      0.68        31\n",
            "           1       0.67      0.34      0.45        29\n",
            "\n",
            "    accuracy                           0.60        60\n",
            "   macro avg       0.62      0.59      0.57        60\n",
            "weighted avg       0.62      0.60      0.57        60\n",
            "\n"
          ],
          "name": "stdout"
        },
        {
          "output_type": "display_data",
          "data": {
            "image/png": "[encoded data removed]",
            "text/plain": [
              "<Figure size 432x288 with 2 Axes>"
            ]
          },
          "metadata": {
            "tags": [],
            "needs_background": "light"
          }
        }
      ]
    },
    {
      "cell_type": "markdown",
      "metadata": {
        "id": "a8_h8sdxzrMV"
      },
      "source": [
        "Random Forrest"
      ]
    },
    {
      "cell_type": "code",
      "metadata": {
        "id": "nTOW3LxmUvlG",
        "colab": {
          "base_uri": "https://localhost:8080/",
          "height": 482
        },
        "outputId": "a5f832e9-9a66-42a0-f38a-ed28557fd28e"
      },
      "source": [
        "'''Random Forrest'''\n",
        "rf_model = RandomForestClassifier(max_depth=11, random_state=0).fit(X_train_vectors, y_train)\n",
        "prediction_rf = rf_model.predict(X_test_vectors)\n",
        "report_rf = classification_report(y_test, prediction_rf)\n",
        "plot_confusion_matrix(rf_model, X_test_vectors, y_test,display_labels=class_names,\n",
        "                      cmap=plt.cm.Blues,\n",
        "                      normalize=None)\n",
        "plt.title('Confusion Matrix for Random Forrest')\n",
        "plt.xlabel('Predicted label')\n",
        "plt.ylabel('True label')\n",
        "#plt.show()\n",
        "plt.savefig('cm for Random Forrest')\n",
        "print('\\nRandom Forest results')\n",
        "print(report_rf)"
      ],
      "execution_count": null,
      "outputs": [
        {
          "output_type": "stream",
          "text": [
            "\n",
            "Decision tree results\n",
            "              precision    recall  f1-score   support\n",
            "\n",
            "           0       0.54      0.94      0.68        31\n",
            "           1       0.67      0.14      0.23        29\n",
            "\n",
            "    accuracy                           0.55        60\n",
            "   macro avg       0.60      0.54      0.46        60\n",
            "weighted avg       0.60      0.55      0.46        60\n",
            "\n"
          ],
          "name": "stdout"
        },
        {
          "output_type": "display_data",
          "data": {
            "image/png": "[encoded data removed]",
            "text/plain": [
              "<Figure size 432x288 with 2 Axes>"
            ]
          },
          "metadata": {
            "tags": [],
            "needs_background": "light"
          }
        }
      ]
    }
  ]
}